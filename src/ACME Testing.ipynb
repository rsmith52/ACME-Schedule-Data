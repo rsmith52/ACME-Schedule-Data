{
 "cells": [
  {
   "cell_type": "code",
   "execution_count": 1,
   "metadata": {},
   "outputs": [],
   "source": [
    "# Import package\n",
    "from ACME import ACME\n",
    "import pandas as pd"
   ]
  },
  {
   "cell_type": "code",
   "execution_count": 4,
   "metadata": {},
   "outputs": [
    {
     "data": {
      "text/plain": [
       "<selenium.webdriver.chrome.webdriver.WebDriver (session=\"91225bcf391c6e30433ac56a129c31e8\")>"
      ]
     },
     "execution_count": 4,
     "metadata": {},
     "output_type": "execute_result"
    }
   ],
   "source": [
    "# Access ACME (headless browsing = True)\n",
    "acme = ACME(False)\n",
    "acme.Login()"
   ]
  },
  {
   "cell_type": "code",
   "execution_count": 5,
   "metadata": {},
   "outputs": [],
   "source": [
    "# Get table by date - defaults to today\n",
    "table = acme.GetScheduleByDate()"
   ]
  },
  {
   "cell_type": "code",
   "execution_count": 6,
   "metadata": {},
   "outputs": [],
   "source": [
    "# Get table by specified date\n",
    "day = '2021-2-3'\n",
    "table_2 = acme.GetScheduleByDate(day)"
   ]
  },
  {
   "cell_type": "code",
   "execution_count": 5,
   "metadata": {},
   "outputs": [
    {
     "name": "stderr",
     "output_type": "stream",
     "text": [
      "Scraping data by day: 100%|██████████| 5/5 [00:06<00:00,  1.39s/it]\n"
     ]
    }
   ],
   "source": [
    "# Get last n days of tables\n",
    "n = 5\n",
    "tables = acme.GetRecentSchedules(n)"
   ]
  },
  {
   "cell_type": "code",
   "execution_count": 9,
   "metadata": {},
   "outputs": [
    {
     "name": "stderr",
     "output_type": "stream",
     "text": [
      "Scraping data for month: 3, 2020: 100%|██████████| 31/31 [00:00<00:00, 117349.66it/s]\n"
     ]
    }
   ],
   "source": [
    "# Get table by month - defaults to this month\n",
    "tables_2 = acme.GetSchedulesByMonth(3, 2020)"
   ]
  },
  {
   "cell_type": "code",
   "execution_count": null,
   "metadata": {},
   "outputs": [],
   "source": [
    "# Get date range of tables - ex: since march 2020, start of Covid\n",
    "tables_3 = acme.GetSchedulesInRange(\"2020-10-1\")"
   ]
  },
  {
   "cell_type": "code",
   "execution_count": null,
   "metadata": {},
   "outputs": [],
   "source": [
    "# Get agent hours from data tables\n",
    "hours = acme.GetAgentHours(tables, True)"
   ]
  },
  {
   "cell_type": "code",
   "execution_count": 15,
   "metadata": {},
   "outputs": [
    {
     "name": "stderr",
     "output_type": "stream",
     "text": [
      "Scraping Data by Agent: 100%|██████████| 103/103 [00:00<00:00, 187668.68it/s]\n"
     ]
    },
    {
     "data": {
      "text/plain": [
       "{'EMAC': 2131.25,\n",
       " 'WRIT': 1465.75,\n",
       " 'OPEN': 1656.0,\n",
       " 'RWER': 1718.75,\n",
       " 'DBON': 1332.375,\n",
       " 'PETU': 1340.625,\n",
       " 'WALK': 1096.875,\n",
       " 'DPAY': 922.5,\n",
       " 'KALL': 984.375,\n",
       " 'ERDO': 1090.125,\n",
       " 'SWAL': 996.0,\n",
       " 'ALZA': 850.75,\n",
       " 'BANT': 928.125,\n",
       " 'AWEN': 840.5,\n",
       " 'CACH': 1113.75,\n",
       " 'YOSH': 865.375,\n",
       " 'TBOS': 936.0,\n",
       " 'HUNT': 988.125,\n",
       " 'LKRE': 981.75,\n",
       " 'LEBO': 969.0,\n",
       " 'AGOE': 912.0,\n",
       " 'MAHA': 943.5,\n",
       " 'BCON': 983.125,\n",
       " 'HOST': 969.375,\n",
       " 'THOK': 955.625,\n",
       " 'GABE': 776.25,\n",
       " 'TREN': 867.0,\n",
       " 'CEBA': 860.625,\n",
       " 'RAYS': 914.375,\n",
       " 'EBUR': 780.0,\n",
       " 'KALA': 803.25,\n",
       " 'LBAN': 708.75,\n",
       " 'MBAL': 697.5,\n",
       " 'JOBA': 686.25,\n",
       " 'TBRA': 686.25,\n",
       " 'JJBE': 726.0,\n",
       " 'JAGR': 811.25,\n",
       " 'MOME': 646.875,\n",
       " 'JEMA': 720.375,\n",
       " 'BRUC': 574.0,\n",
       " 'SIEL': 624.375,\n",
       " 'HAGL': 654.0,\n",
       " 'RIHA': 607.5,\n",
       " 'STAD': 642.0,\n",
       " 'MDUF': 538.125,\n",
       " 'CAZA': 669.375,\n",
       " 'MHIL': 656.625,\n",
       " 'PAKA': 579.375,\n",
       " 'JBRI': 522.75,\n",
       " 'FTYL': 548.25,\n",
       " 'CLU8': 562.5,\n",
       " 'QIAO': 486.875,\n",
       " 'RUDO': 505.25,\n",
       " 'GARC': 599.25,\n",
       " 'MKOR': 499.875,\n",
       " 'MNEL': 523.125,\n",
       " 'NKAB': 517.5,\n",
       " 'RMAJ': 580.125,\n",
       " 'AWGR': 511.875,\n",
       " 'REMI': 573.75,\n",
       " 'JKNO': 567.375,\n",
       " 'AARK': 522.0,\n",
       " 'EWJE': 541.875,\n",
       " 'KELL': 504.0,\n",
       " 'TATO': 486.0,\n",
       " 'JESO': 415.125,\n",
       " 'JLEE': 444.375,\n",
       " 'BECK': 438.75,\n",
       " 'DUNN': 462.0,\n",
       " 'MESC': 394.625,\n",
       " 'HEER': 529.375,\n",
       " 'TROG': 412.5,\n",
       " 'RCOU': 403.125,\n",
       " 'JYOO': 403.125,\n",
       " 'SPEK': 416.25,\n",
       " 'GUZM': 397.75,\n",
       " 'LDUO': 397.75,\n",
       " 'KGAO': 397.75,\n",
       " 'HAMC': 432.0,\n",
       " 'ELLI': 393.75,\n",
       " 'ELTR': 481.25,\n",
       " 'ANNA': 402.0,\n",
       " 'MIWO': 354.75,\n",
       " 'KIRM': 343.125,\n",
       " 'LENA': 307.5,\n",
       " 'YFER': 337.5,\n",
       " 'JMEN': 405.625,\n",
       " 'WALT': 326.25,\n",
       " 'CTER': 320.625,\n",
       " 'ADWI': 247.25,\n",
       " 'JWHY': 230.625,\n",
       " 'MBER': 253.125,\n",
       " 'PDRO': 204.0,\n",
       " 'KALO': 90.0,\n",
       " 'CHR': 46.0,\n",
       " 'AZJ': 48.0,\n",
       " 'ELMO': 30.75,\n",
       " 'RDAV': 16.125}"
      ]
     },
     "execution_count": 15,
     "metadata": {},
     "output_type": "execute_result"
    }
   ],
   "source": [
    "# Get total cost of paying agents over table data\n",
    "cost = acme.GetScheduleCost(tables_2, False, False)\n",
    "cost"
   ]
  },
  {
   "cell_type": "code",
   "execution_count": 16,
   "metadata": {},
   "outputs": [
    {
     "name": "stderr",
     "output_type": "stream",
     "text": [
      "Scraping Data by Agent: 100%|██████████| 62/62 [00:00<00:00, 95993.67it/s]\n"
     ]
    },
    {
     "data": {
      "text/plain": [
       "{'WRIT': 1465.75,\n",
       " 'DPAY': 922.5,\n",
       " 'AWEN': 840.5,\n",
       " 'ALZA': 814.875,\n",
       " 'BRUC': 574.0,\n",
       " 'MDUF': 517.625,\n",
       " 'JBRI': 497.125,\n",
       " 'MESC': 394.625,\n",
       " 'RCOU': 403.125,\n",
       " 'RAYS': 508.75,\n",
       " 'JESO': 363.875,\n",
       " 'LENA': 307.5,\n",
       " 'TROG': 324.5,\n",
       " 'FTYL': 274.125,\n",
       " 'JJBE': 288.0,\n",
       " 'JWHY': 230.625,\n",
       " 'ADWI': 204.25,\n",
       " 'EWJE': 204.0,\n",
       " 'DUNN': 186.0,\n",
       " 'DBON': 191.25,\n",
       " 'WALK': 151.875,\n",
       " 'KALL': 151.875,\n",
       " 'LBAN': 123.75,\n",
       " 'MHIL': 127.5,\n",
       " 'AGOE': 120.0,\n",
       " 'CLU8': 106.875,\n",
       " 'CEBA': 114.75,\n",
       " 'CTER': 101.25,\n",
       " 'TBRA': 90.0,\n",
       " 'LEBO': 95.625,\n",
       " 'GARC': 82.875,\n",
       " 'LKRE': 82.875,\n",
       " 'KELL': 78.0,\n",
       " 'TATO': 72.0,\n",
       " 'MBER': 67.5,\n",
       " 'CAZA': 76.5,\n",
       " 'JEMA': 76.5,\n",
       " 'JOBA': 61.875,\n",
       " 'KALA': 70.125,\n",
       " 'HEER': 68.75,\n",
       " 'HOST': 61.875,\n",
       " 'RUDO': 43.0,\n",
       " 'HAGL': 48.0,\n",
       " 'TBOS': 48.0,\n",
       " 'AARK': 42.0,\n",
       " 'HAMC': 36.0,\n",
       " 'TREN': 38.25,\n",
       " 'ERDO': 38.25,\n",
       " 'SWAL': 36.0,\n",
       " 'KIRM': 28.125,\n",
       " 'SPEK': 28.125,\n",
       " 'STAD': 24.0,\n",
       " 'ELLI': 22.5,\n",
       " 'MBAL': 16.875,\n",
       " 'SIEL': 16.875,\n",
       " 'AWGR': 11.25,\n",
       " 'MOME': 11.25,\n",
       " 'PAKA': 11.25,\n",
       " 'BANT': 11.25}"
      ]
     },
     "execution_count": 16,
     "metadata": {},
     "output_type": "execute_result"
    }
   ],
   "source": [
    "# Split by Role\n",
    "filtered_tables = acme.GetSchedulesByRole(tables_2, \"WALK_IN\")\n",
    "cost = acme.GetScheduleCost(filtered_tables, False, False)\n",
    "cost"
   ]
  },
  {
   "cell_type": "code",
   "execution_count": 3,
   "metadata": {},
   "outputs": [],
   "source": [
    "# Close browser\n",
    "acme.Close()"
   ]
  },
  {
   "cell_type": "code",
   "execution_count": 7,
   "metadata": {},
   "outputs": [
    {
     "data": {
      "text/plain": [
       "{'RCOU': 430.0,\n",
       " 'JADE': 384.0,\n",
       " 'PETU': 316.25,\n",
       " 'SMDO': 288.75,\n",
       " 'SPEK': 236.25,\n",
       " 'JOBA': 225.0,\n",
       " 'HAMC': 228.0,\n",
       " 'JJBE': 216.0,\n",
       " 'RWAS': 174.25,\n",
       " 'SAWA': 191.25,\n",
       " 'HUNT': 204.0,\n",
       " 'JESO': 164.0,\n",
       " 'GUZM': 161.25,\n",
       " 'JKLO': 161.25,\n",
       " 'GABE': 168.75,\n",
       " 'HEER': 206.25,\n",
       " 'CACH': 206.25,\n",
       " 'BING': 153.75,\n",
       " 'STAD': 174.0,\n",
       " 'JKNO': 178.5,\n",
       " 'RMAJ': 178.5,\n",
       " 'ADWI': 150.5,\n",
       " 'MRDA': 138.375,\n",
       " 'TBOS': 162.0,\n",
       " 'ALZA': 133.25,\n",
       " 'LKRE': 165.75,\n",
       " 'JEMA': 165.75,\n",
       " 'DANI': 128.125,\n",
       " 'THOK': 165.0,\n",
       " 'KELL': 144.0,\n",
       " 'AARK': 144.0,\n",
       " 'BANT': 135.0,\n",
       " 'STEF': 123.0,\n",
       " 'MJMO': 135.0,\n",
       " 'CAZA': 153.0,\n",
       " 'MOME': 135.0,\n",
       " 'IAND': 123.0,\n",
       " 'MORI': 129.0,\n",
       " 'SIEL': 129.375,\n",
       " 'EWJE': 146.625,\n",
       " 'DUNN': 132.0,\n",
       " 'GOFF': 123.75,\n",
       " 'MNEL': 123.75,\n",
       " 'RAYS': 151.25,\n",
       " 'YFER': 123.75,\n",
       " 'DBON': 133.875,\n",
       " 'NINA': 107.5,\n",
       " 'KTEM': 102.5,\n",
       " 'GENI': 112.5,\n",
       " 'VRNA': 112.5,\n",
       " 'RWER': 137.5,\n",
       " 'LEBO': 127.5,\n",
       " 'HAYA': 102.5,\n",
       " 'ATRI': 107.5,\n",
       " 'LBAN': 112.5,\n",
       " 'PAKA': 106.875,\n",
       " 'GARC': 121.125,\n",
       " 'CLU8': 106.875,\n",
       " 'MEZI': 96.75,\n",
       " 'FOER': 92.25,\n",
       " 'JBRI': 92.25,\n",
       " 'RIHA': 90.0,\n",
       " 'CKLE': 86.0,\n",
       " 'IVIS': 80.625,\n",
       " 'MUSA': 61.5,\n",
       " 'DRDO': 61.5,\n",
       " 'TATO': 72.0,\n",
       " 'AWGR': 67.5,\n",
       " 'OPEN': 72.0,\n",
       " 'MAHA': 76.5,\n",
       " 'JLHE': 53.75,\n",
       " 'ELLI': 50.625,\n",
       " 'KALA': 57.375,\n",
       " 'HOST': 61.875,\n",
       " 'BCON': 55.0,\n",
       " 'OCLA': 43.0}"
      ]
     },
     "execution_count": 7,
     "metadata": {},
     "output_type": "execute_result"
    }
   ],
   "source": [
    "cost"
   ]
  },
  {
   "cell_type": "code",
   "execution_count": null,
   "metadata": {},
   "outputs": [],
   "source": []
  },
  {
   "cell_type": "code",
   "execution_count": 7,
   "metadata": {},
   "outputs": [
    {
     "data": {
      "text/plain": [
       "{'2021-2-3':         hdqaremote phonesfte  \\\n",
       " time                           \n",
       " 7:00AM      [THOK]      None   \n",
       " 7:30AM      [THOK]      None   \n",
       " 8:00AM      [THOK]      None   \n",
       " 8:30AM      [THOK]      None   \n",
       " 9:00AM      [HUNT]      None   \n",
       " 9:30AM      [HUNT]    [JADE]   \n",
       " 10:00AM     [HUNT]      None   \n",
       " 10:30AM     [HUNT]      None   \n",
       " 11:00AM     [DUNN]      None   \n",
       " 11:30AM     [DUNN]      None   \n",
       " 12:00PM     [DUNN]    [JADE]   \n",
       " 12:30PM     [DUNN]      None   \n",
       " 1:00PM      [JEMA]    [JADE]   \n",
       " 1:30PM      [JEMA]    [JADE]   \n",
       " 2:00PM      [KELL]      None   \n",
       " 2:30PM      [KELL]    [JADE]   \n",
       " 3:00PM      [KELL]    [JADE]   \n",
       " 3:30PM      [KELL]    [JADE]   \n",
       " 4:00PM      [STAD]    [JADE]   \n",
       " 4:30PM      [STAD]    [JADE]   \n",
       " 5:00PM      [STAD]      None   \n",
       " 5:30PM      [PETU]      None   \n",
       " 6:00PM      [PETU]      None   \n",
       " 6:30PM      [PETU]      None   \n",
       " 7:00PM      [SMDO]      None   \n",
       " 7:30PM      [SMDO]      None   \n",
       " 8:00PM      [SMDO]      None   \n",
       " 8:30PM      [SMDO]      None   \n",
       " 9:00PM      [AARK]      None   \n",
       " 9:30PM      [AARK]      None   \n",
       " 10:00PM     [AARK]      None   \n",
       " 10:30PM     [AARK]      None   \n",
       " \n",
       "                                               phonesremote chatemailremote  \\\n",
       " time                                                                         \n",
       " 7:00AM                            [BANT, IAND, RWAS, MBER]            None   \n",
       " 7:30AM                            [BANT, IAND, RWAS, MBER]            None   \n",
       " 8:00AM                [STAD, BANT, BECK, IAND, RWAS, HDP1]          [MBER]   \n",
       " 8:30AM                      [STAD, BANT, IAND, RWAS, HDP1]          [MBER]   \n",
       " 9:00AM                      [HAMC, BANT, GOFF, RWAS, HDP1]          [MBER]   \n",
       " 9:30AM                      [HAMC, BANT, GOFF, RWAS, HDP1]          [MBER]   \n",
       " 10:00AM         [HAMC, TBOS, AWGR, BANT, GOFF, RWAS, HDP1]          [DBON]   \n",
       " 10:30AM   [HAMC, SIEL, TBOS, AWGR, BANT, GOFF, RWAS, HDP1]          [DBON]   \n",
       " 11:00AM         [SIEL, TBOS, BECK, NINA, GOFF, FOER, HDP1]          [DBON]   \n",
       " 11:30AM         [SIEL, TBOS, BECK, NINA, GOFF, FOER, HDP1]          [DBON]   \n",
       " 12:00PM         [SIEL, TBOS, RIHA, NINA, FOER, IAND, HDP1]          [GENI]   \n",
       " 12:30PM  [SIEL, CLU8, TBOS, RIHA, NINA, FOER, IAND, KTE...          [GENI]   \n",
       " 1:00PM    [CLU8, RIHA, NINA, IAND, BING, KTEM, MRDA, JKLO]          [GENI]   \n",
       " 1:30PM    [CLU8, RIHA, NINA, IAND, BING, KTEM, MRDA, JKLO]          [GENI]   \n",
       " 2:00PM    [ELLI, NINA, IAND, DANI, BING, KTEM, JKLO, LKRE]          [JEMA]   \n",
       " 2:30PM    [TBOS, ELLI, NINA, IAND, DANI, BING, JKLO, LKRE]          [JEMA]   \n",
       " 3:00PM          [HAMC, TBOS, ELLI, IAND, DANI, JKLO, LKRE]          [JEMA]   \n",
       " 3:30PM          [HAMC, TBOS, ELLI, IAND, DANI, JKLO, LKRE]          [JEMA]   \n",
       " 4:00PM          [HAMC, TBOS, ELLI, MNEL, CKLE, DANI, LKRE]          [KELL]   \n",
       " 4:30PM          [HAMC, ELLI, MNEL, CKLE, FOER, DANI, LKRE]          [KELL]   \n",
       " 5:00PM                      [HAMC, MNEL, CKLE, FOER, DANI]          [KELL]   \n",
       " 5:30PM                      [HAMC, MNEL, CKLE, FOER, DANI]          [KELL]   \n",
       " 6:00PM                            [CLU8, MNEL, CKLE, FOER]          [GABE]   \n",
       " 6:30PM                            [CLU8, MNEL, CKLE, FOER]          [GABE]   \n",
       " 7:00PM                      [AARK, VRNA, CLU8, MNEL, FOER]          [GABE]   \n",
       " 7:30PM                      [AARK, VRNA, CLU8, MNEL, JLHE]          [GABE]   \n",
       " 8:00PM                            [AARK, VRNA, JLHE, MEZI]          [GABE]   \n",
       " 8:30PM                            [AARK, VRNA, JLHE, MEZI]          [GABE]   \n",
       " 9:00PM                                  [GABE, JLHE, MEZI]          [VRNA]   \n",
       " 9:30PM                                  [GABE, JLHE, MEZI]          [VRNA]   \n",
       " 10:00PM                                       [GABE, MEZI]          [VRNA]   \n",
       " 10:30PM                                       [GABE, MEZI]          [VRNA]   \n",
       " \n",
       "                       emailremote                                 hdl1project  \\\n",
       " time                                                                            \n",
       " 7:00AM               [HDP3, HDP4]                                        None   \n",
       " 7:30AM               [HDP3, HDP4]                                        None   \n",
       " 8:00AM               [HDP3, HDP4]                                        None   \n",
       " 8:30AM         [BECK, HDP3, HDP4]                                        None   \n",
       " 9:00AM         [BECK, HDP3, HDP4]                                      [JADE]   \n",
       " 9:30AM         [BECK, HDP3, HDP4]                                        None   \n",
       " 10:00AM        [BECK, HDP3, HDP4]                                      [JADE]   \n",
       " 10:30AM        [BECK, HDP3, HDP4]                                      [JADE]   \n",
       " 11:00AM              [HDP3, HDP4]                                      [JADE]   \n",
       " 11:30AM              [HDP3, HDP4]                                        None   \n",
       " 12:00PM              [HDP3, HDP4]                                      [HOST]   \n",
       " 12:30PM              [HDP3, HDP4]                                [PETU, HOST]   \n",
       " 1:00PM   [DUNN, SPEK, HDP3, HDP4]              [THOK, RWER, LEBO, HOST, RMAJ]   \n",
       " 1:30PM   [DUNN, SPEK, HDP3, HDP4]              [THOK, RWER, LEBO, HOST, RMAJ]   \n",
       " 2:00PM         [SPEK, HDP3, HDP4]                    [THOK, LEBO, HOST, RMAJ]   \n",
       " 2:30PM         [SPEK, HDP3, HDP4]                                [LEBO, RMAJ]   \n",
       " 3:00PM         [SPEK, HDP3, HDP4]                    [HUNT, LEBO, RMAJ, DBON]   \n",
       " 3:30PM         [SPEK, HDP3, HDP4]              [HUNT, LEBO, RMAJ, DBON, CAZA]   \n",
       " 4:00PM   [PETU, SPEK, HDP3, HDP4]  [CACH, HUNT, RMAJ, DBON, CAZA, GARC, JEMA]   \n",
       " 4:30PM   [PETU, SPEK, HDP3, HDP4]  [CACH, HUNT, RMAJ, DBON, CAZA, GARC, JEMA]   \n",
       " 5:00PM   [PETU, SPEK, HDP3, HDP4]        [CACH, HUNT, DBON, CAZA, GARC, JEMA]   \n",
       " 5:30PM         [SPEK, HDP3, HDP4]        [CACH, HUNT, DBON, CAZA, GARC, JEMA]   \n",
       " 6:00PM         [SIEL, HDP3, HDP4]                                [CACH, CAZA]   \n",
       " 6:30PM         [SIEL, HDP3, HDP4]                                [CACH, CAZA]   \n",
       " 7:00PM         [SIEL, HDP3, HDP4]                                      [CAZA]   \n",
       " 7:30PM         [SIEL, HDP3, HDP4]                                        None   \n",
       " 8:00PM         [SIEL, HDP3, HDP4]                                        None   \n",
       " 8:30PM         [SIEL, HDP3, HDP4]                                        None   \n",
       " 9:00PM               [HDP3, HDP4]                                        None   \n",
       " 9:30PM               [HDP3, HDP4]                                        None   \n",
       " 10:00PM              [HDP3, HDP4]                                        None   \n",
       " 10:30PM              [HDP3, HDP4]                                        None   \n",
       " \n",
       "              walkinsd        repair wihdappt training       meeting  \n",
       " time                                                                 \n",
       " 7:00AM           None          None     None   [MJMO]          None  \n",
       " 7:30AM           None          None     None   [MJMO]          None  \n",
       " 8:00AM           None          None     None   [MJMO]          None  \n",
       " 8:30AM           None          None     None   [MJMO]          None  \n",
       " 9:00AM         [SMDO]        [ALZA]     None   [MJMO]          None  \n",
       " 9:30AM         [SMDO]        [ALZA]     None   [MJMO]          None  \n",
       " 10:00AM        [SMDO]        [JESO]   [ALZA]   [MJMO]          None  \n",
       " 10:30AM        [ALZA]        [JESO]     None   [MJMO]          None  \n",
       " 11:00AM        [ALZA]        [JESO]     None   [AWGR]          None  \n",
       " 11:30AM        [ADWI]  [JESO, ALZA]     None   [AWGR]        [JADE]  \n",
       " 12:00PM        [ADWI]        [JESO]     None   [AWGR]        [RWER]  \n",
       " 12:30PM        [ADWI]        [JESO]     None   [AWGR]  [RWER, JADE]  \n",
       " 1:00PM   [RAYS, ADWI]          None     None     None        [PETU]  \n",
       " 1:30PM   [RAYS, ADWI]          None     None     None          None  \n",
       " 2:00PM         [ADWI]          None   [RAYS]     None        [JADE]  \n",
       " 2:30PM   [RAYS, ADWI]          None     None     None          None  \n",
       " 3:00PM         [RAYS]          None     None     None          None  \n",
       " 3:30PM         [RAYS]          None     None     None          None  \n",
       " 4:00PM         [RAYS]          None     None     None          None  \n",
       " 4:30PM         [RAYS]          None     None     None          None  \n",
       " 5:00PM           None          None     None     None          None  \n",
       " 5:30PM           None          None     None     None          None  \n",
       " 6:00PM           None          None     None     None          None  \n",
       " 6:30PM           None          None     None     None          None  \n",
       " 7:00PM           None          None     None     None          None  \n",
       " 7:30PM           None          None     None     None          None  \n",
       " 8:00PM           None          None     None     None          None  \n",
       " 8:30PM           None          None     None     None          None  \n",
       " 9:00PM           None          None     None     None          None  \n",
       " 9:30PM           None          None     None     None          None  \n",
       " 10:00PM          None          None     None     None          None  \n",
       " 10:30PM          None          None     None     None          None  }"
      ]
     },
     "execution_count": 7,
     "metadata": {},
     "output_type": "execute_result"
    }
   ],
   "source": [
    "table_2"
   ]
  },
  {
   "cell_type": "code",
   "execution_count": null,
   "metadata": {},
   "outputs": [],
   "source": []
  }
 ],
 "metadata": {
  "kernelspec": {
   "display_name": "Python 3",
   "language": "python",
   "name": "python3"
  },
  "language_info": {
   "codemirror_mode": {
    "name": "ipython",
    "version": 3
   },
   "file_extension": ".py",
   "mimetype": "text/x-python",
   "name": "python",
   "nbconvert_exporter": "python",
   "pygments_lexer": "ipython3",
   "version": "3.7.2"
  }
 },
 "nbformat": 4,
 "nbformat_minor": 2
}
