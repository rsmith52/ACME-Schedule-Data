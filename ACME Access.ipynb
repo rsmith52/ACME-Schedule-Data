{
 "cells": [
  {
   "cell_type": "markdown",
   "metadata": {},
   "source": [
    "# Accessing ACME\n",
    "### Ray Smith"
   ]
  },
  {
   "cell_type": "code",
   "execution_count": 27,
   "metadata": {},
   "outputs": [],
   "source": [
    "# Selenium Imports\n",
    "from selenium import webdriver\n",
    "from selenium.webdriver.chrome.options import Options\n",
    "from selenium.common.exceptions import NoSuchElementException\n",
    "\n",
    "# Datetime Imports\n",
    "import datetime"
   ]
  },
  {
   "cell_type": "code",
   "execution_count": 18,
   "metadata": {},
   "outputs": [],
   "source": [
    "# Settings\n",
    "url = \"https://acme.wisc.edu/tools/schedule/schedule.php\"\n",
    "\n",
    "login_secret = \"login.secret\"\n",
    "duo_secret = \"duo.secret\"\n",
    "\n",
    "options = Options()\n",
    "# options.headless = True"
   ]
  },
  {
   "cell_type": "code",
   "execution_count": 19,
   "metadata": {},
   "outputs": [],
   "source": [
    "# Get Secrets\n",
    "with open(login_secret) as f:\n",
    "    user = f.readline()[:-1]\n",
    "    password = f.readline()"
   ]
  },
  {
   "cell_type": "code",
   "execution_count": 40,
   "metadata": {},
   "outputs": [],
   "source": [
    "# Date conversion functions\n",
    "# String form = date=YYYY-MM-DD\n",
    "\n",
    "# URL String to Date\n",
    "def string_to_date(string):\n",
    "    parts = string.split('-')\n",
    "    year = int(parts[0])\n",
    "    month = int(parts[1])\n",
    "    day = int(parts[2])\n",
    "    date = datetime.date(year=year, month=month, day=day)\n",
    "    return date\n",
    "\n",
    "# Date to URL String\n",
    "def date_to_string(date):\n",
    "    year = date.year\n",
    "    month = date.month\n",
    "    day = date.day\n",
    "    return str(year) + '-' + str(month) + '-' + str(day)"
   ]
  },
  {
   "cell_type": "code",
   "execution_count": 20,
   "metadata": {},
   "outputs": [],
   "source": [
    "# Login to ACME\n",
    "def acme_login():\n",
    "    browser = webdriver.Chrome(options=options)\n",
    "    browser.get(url)\n",
    "\n",
    "    # Fill in username\n",
    "    user_field = browser.find_element_by_id('j_username')\n",
    "    user_field.send_keys(user)\n",
    "\n",
    "    # Fill in password\n",
    "    pass_field = browser.find_element_by_id('j_password')\n",
    "    pass_field.send_keys(password)\n",
    "\n",
    "    # Click login\n",
    "    login_button = browser.find_element_by_name('_eventId_proceed')\n",
    "    login_button.click()\n",
    "    \n",
    "    # Return ACME pointed browser\n",
    "    return browser"
   ]
  },
  {
   "cell_type": "code",
   "execution_count": 53,
   "metadata": {},
   "outputs": [],
   "source": [
    "# Get Schedule Table by Date (as string)\n",
    "def get_schedule_by_date(browser, date):\n",
    "    new_url = url + '?date=' + date\n",
    "    browser.get(new_url)\n",
    "    \n",
    "    table = browser.find_element_by_id('sch_table_verticle')\n",
    "    return table"
   ]
  },
  {
   "cell_type": "code",
   "execution_count": 48,
   "metadata": {},
   "outputs": [],
   "source": [
    "# Login\n",
    "browser = acme_login()"
   ]
  },
  {
   "cell_type": "code",
   "execution_count": 54,
   "metadata": {},
   "outputs": [
    {
     "data": {
      "text/plain": [
       "<selenium.webdriver.remote.webelement.WebElement (session=\"6aa8d84e229c3ef2618937f9f3dfc8f0\", element=\"39c8a9f2-f924-4cbb-8038-56a782914471\")>"
      ]
     },
     "execution_count": 54,
     "metadata": {},
     "output_type": "execute_result"
    }
   ],
   "source": [
    "# Access certain date\n",
    "date = '2020-10-01'\n",
    "table = get_schedule_by_date(browser, date)\n",
    "table"
   ]
  },
  {
   "cell_type": "code",
   "execution_count": 47,
   "metadata": {},
   "outputs": [],
   "source": [
    "# Close browser\n",
    "browser.close()"
   ]
  },
  {
   "cell_type": "code",
   "execution_count": null,
   "metadata": {},
   "outputs": [],
   "source": []
  }
 ],
 "metadata": {
  "kernelspec": {
   "display_name": "Python 3",
   "language": "python",
   "name": "python3"
  },
  "language_info": {
   "codemirror_mode": {
    "name": "ipython",
    "version": 3
   },
   "file_extension": ".py",
   "mimetype": "text/x-python",
   "name": "python",
   "nbconvert_exporter": "python",
   "pygments_lexer": "ipython3",
   "version": "3.7.2"
  }
 },
 "nbformat": 4,
 "nbformat_minor": 2
}
