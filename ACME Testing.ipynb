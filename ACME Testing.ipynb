{
 "cells": [
  {
   "cell_type": "code",
   "execution_count": 1,
   "metadata": {},
   "outputs": [],
   "source": [
    "# Import package\n",
    "from ACME import ACME\n",
    "import pandas as pd"
   ]
  },
  {
   "cell_type": "code",
   "execution_count": 2,
   "metadata": {},
   "outputs": [
    {
     "data": {
      "text/plain": [
       "<selenium.webdriver.chrome.webdriver.WebDriver (session=\"f617dfeea4a023f6fc6b28db2f472727\")>"
      ]
     },
     "execution_count": 2,
     "metadata": {},
     "output_type": "execute_result"
    }
   ],
   "source": [
    "# Access ACME (headless browsing = True)\n",
    "acme = ACME(True)\n",
    "acme.Login()"
   ]
  },
  {
   "cell_type": "code",
   "execution_count": 3,
   "metadata": {},
   "outputs": [],
   "source": [
    "# Get table by date - defaults to today\n",
    "table = acme.GetScheduleByDate()"
   ]
  },
  {
   "cell_type": "code",
   "execution_count": 4,
   "metadata": {},
   "outputs": [],
   "source": [
    "# Get table by specified date\n",
    "day = '2021-2-3'\n",
    "table_2 = acme.GetScheduleByDate(day)"
   ]
  },
  {
   "cell_type": "code",
   "execution_count": 5,
   "metadata": {},
   "outputs": [
    {
     "name": "stderr",
     "output_type": "stream",
     "text": [
      "Scraping data by day: 100%|██████████| 5/5 [00:07<00:00,  1.42s/it]\n"
     ]
    }
   ],
   "source": [
    "# Get last n days of tables\n",
    "n = 5\n",
    "tables = acme.GetRecentSchedules(n)"
   ]
  },
  {
   "cell_type": "code",
   "execution_count": null,
   "metadata": {},
   "outputs": [],
   "source": [
    "# Get table by month - defaults to this month\n",
    "tables_2 = acme.GetSchedulesByMonth(3, 2020)"
   ]
  },
  {
   "cell_type": "code",
   "execution_count": null,
   "metadata": {},
   "outputs": [],
   "source": [
    "# Get date range of tables - ex: since march 2020, start of Covid\n",
    "tables_3 = acme.GetSchedulesInRange(\"2020-10-1\")"
   ]
  },
  {
   "cell_type": "code",
   "execution_count": null,
   "metadata": {},
   "outputs": [],
   "source": [
    "# Get agent hours from data tables\n",
    "hours = acme.GetAgentHours(table, True)"
   ]
  },
  {
   "cell_type": "code",
   "execution_count": 8,
   "metadata": {},
   "outputs": [
    {
     "name": "stderr",
     "output_type": "stream",
     "text": [
      "Scraping Data by Agent: 100%|██████████| 83/83 [00:19<00:00,  4.29it/s]\n"
     ]
    }
   ],
   "source": [
    "# Get total cost of paying agents over table data\n",
    "cost = acme.GetScheduleCost(tables, True)"
   ]
  },
  {
   "cell_type": "code",
   "execution_count": 9,
   "metadata": {},
   "outputs": [
    {
     "data": {
      "text/plain": [
       "{'HDP4': 0.0,\n",
       " 'HDP3': 0.0,\n",
       " 'JADE': 96.0,\n",
       " 'RCOU': 67.725,\n",
       " 'SPEK': 47.25,\n",
       " 'JEMA': 53.55,\n",
       " 'SMDO': 55.0,\n",
       " 'JKNO': 51.0,\n",
       " 'JOBA': 45.0,\n",
       " 'HAMC': 42.75,\n",
       " 'RWAS': 36.9,\n",
       " 'JJBE': 43.2,\n",
       " 'THOK': 46.75,\n",
       " 'HUNT': 40.8,\n",
       " 'JESO': 32.8,\n",
       " 'DBON': 39.525,\n",
       " 'RIHA': 34.875,\n",
       " 'HEER': 42.625,\n",
       " 'CACH': 42.625,\n",
       " 'JKLO': 30.75,\n",
       " 'GABE': 33.75,\n",
       " 'RMAJ': 38.25,\n",
       " 'BING': 30.75,\n",
       " 'STAD': 34.8,\n",
       " 'BECK': 31.5,\n",
       " 'EWJE': 35.7,\n",
       " 'ADWI': 30.1,\n",
       " 'PETU': 37.125,\n",
       " 'MRDA': 27.675,\n",
       " 'ALZA': 27.675,\n",
       " 'TBOS': 31.2,\n",
       " 'GARC': 33.15,\n",
       " 'MJMO': 28.125,\n",
       " 'DANI': 25.625,\n",
       " 'KELL': 28.8,\n",
       " 'AARK': 28.8,\n",
       " 'BANT': 25.8,\n",
       " 'GENI': 27.0,\n",
       " 'VRNA': 27.0,\n",
       " 'CAZA': 30.6,\n",
       " 'LEBO': 30.6,\n",
       " 'GOFF': 27.0,\n",
       " 'MAHA': 30.6,\n",
       " 'MOME': 27.0,\n",
       " 'MORI': 25.8,\n",
       " 'SAWA': 27.0,\n",
       " 'IAND': 24.6,\n",
       " 'SIEL': 25.875,\n",
       " 'DUNN': 26.4,\n",
       " 'MNEL': 24.75,\n",
       " 'GUZM': 23.65,\n",
       " 'YFER': 24.75,\n",
       " 'BCON': 28.875,\n",
       " 'NINA': 21.5,\n",
       " 'JLEE': 22.5,\n",
       " 'ATRI': 21.5,\n",
       " 'PAKA': 21.375,\n",
       " 'CLU8': 21.375,\n",
       " 'MEZI': 18.45,\n",
       " 'FOER': 18.45,\n",
       " 'LKRE': 22.95,\n",
       " 'JBRI': 18.45,\n",
       " 'RWER': 23.375,\n",
       " 'RAYS': 22.0,\n",
       " 'CKLE': 17.2,\n",
       " 'STEF': 16.4,\n",
       " 'HOST': 20.625,\n",
       " 'IVIS': 16.125,\n",
       " 'DRDO': 15.375,\n",
       " 'PETE': 16.8,\n",
       " 'HAYA': 13.325,\n",
       " 'HDP1': 0.0,\n",
       " 'MUSA': 12.3,\n",
       " 'TATO': 14.4,\n",
       " 'AWGR': 13.5,\n",
       " 'KTEM': 12.3,\n",
       " 'ELLI': 13.5,\n",
       " 'JLHE': 10.75,\n",
       " 'KALA': 11.475,\n",
       " 'OCLA': 8.6,\n",
       " 'MBER': 6.75,\n",
       " 'HDP2': 0.0,\n",
       " 'OPEN': 2.4}"
      ]
     },
     "execution_count": 9,
     "metadata": {},
     "output_type": "execute_result"
    }
   ],
   "source": [
    "cost"
   ]
  },
  {
   "cell_type": "code",
   "execution_count": null,
   "metadata": {},
   "outputs": [],
   "source": [
    "# Split by Role"
   ]
  },
  {
   "cell_type": "code",
   "execution_count": null,
   "metadata": {},
   "outputs": [],
   "source": [
    "# Close browser\n",
    "acme.Close()"
   ]
  },
  {
   "cell_type": "code",
   "execution_count": null,
   "metadata": {},
   "outputs": [],
   "source": []
  },
  {
   "cell_type": "code",
   "execution_count": null,
   "metadata": {},
   "outputs": [],
   "source": []
  },
  {
   "cell_type": "code",
   "execution_count": null,
   "metadata": {},
   "outputs": [],
   "source": []
  }
 ],
 "metadata": {
  "kernelspec": {
   "display_name": "Python 3",
   "language": "python",
   "name": "python3"
  },
  "language_info": {
   "codemirror_mode": {
    "name": "ipython",
    "version": 3
   },
   "file_extension": ".py",
   "mimetype": "text/x-python",
   "name": "python",
   "nbconvert_exporter": "python",
   "pygments_lexer": "ipython3",
   "version": "3.7.2"
  }
 },
 "nbformat": 4,
 "nbformat_minor": 2
}
